{
 "cells": [
  {
   "cell_type": "raw",
   "id": "4ecc3016",
   "metadata": {},
   "source": [
    "1. In the below elements which of them are values or an expression? eg:- values can be\n",
    "integer or string and expressions will be mathematical operators.\n",
    "*\n",
    "'hello'\n",
    "-87.8\n",
    "-\n",
    "/\n",
    "+\n",
    "6\n"
   ]
  },
  {
   "cell_type": "markdown",
   "id": "a55dc5eb",
   "metadata": {},
   "source": [
    "**Answer**\n",
    "\n",
    "All Operators, literals  are comes under expression \n",
    "\n",
    "Expression is only contain identifiers, literals and operators\n",
    "\n",
    "Literals: It is define as the raw data assigned to variables\n",
    "\n",
    "**Example**\n",
    "\n",
    "a='hello'\n",
    "b=-87.8\n",
    "c=6\n",
    "\n",
    "def add(a,b):\n",
    "    c=a+b\n",
    "    return c\n",
    "add(1,9)\n",
    "\n",
    "def mul(a,b):\n",
    "    c=a*b\n",
    "    return c\n",
    "mul(1,9)\n",
    "    \n",
    "def sub(a,b):\n",
    "    c=a-b\n",
    "    return c\n",
    "sub(1,9)\n",
    "\n",
    "def div(a,b):\n",
    "    c=a/b\n",
    "    return c\n",
    "div(1,9)\n",
    " \n",
    "**Operators** : +,-,/,*\n",
    "**Values** : 'hello',87.8,6\n",
    " "
   ]
  },
  {
   "cell_type": "raw",
   "id": "eb4938a1",
   "metadata": {},
   "source": [
    "2. What is the difference between string and variable?"
   ]
  },
  {
   "cell_type": "markdown",
   "id": "2803866f",
   "metadata": {},
   "source": [
    "**String** : A string in python are surronded by either single quotes are double quotes marks and three quotes \n",
    "            By three quotes we can assign a multiline string to a variable\n",
    "            \n",
    "            String is the data type \n",
    "\n",
    "**example** : 'Naresh' --> single quote \n",
    "              \"Naresh\" --> double quote\n",
    "              a=''' Hello welcome to iNeuron\n",
    "                     full stack data science programming'''\n",
    "           \n",
    "**Variable**: A variables are container to storing the data values\n",
    "\n",
    "**example** : a=10 [Here a is the variable and it storing the type of the value is Integer]"
   ]
  },
  {
   "cell_type": "raw",
   "id": "0d26cbe3",
   "metadata": {},
   "source": [
    "3.Describe three different data types."
   ]
  },
  {
   "cell_type": "markdown",
   "id": "b3cd5f8f",
   "metadata": {},
   "source": [
    "**3 different data types are:**\n",
    "1. Text Type  : str\n",
    "2. Numeric Type : int,float,complex\n",
    "3. Boolean Type : bool\n"
   ]
  },
  {
   "cell_type": "code",
   "execution_count": 5,
   "id": "3da23be1",
   "metadata": {},
   "outputs": [
    {
     "name": "stdout",
     "output_type": "stream",
     "text": [
      "<class 'int'>\n",
      "10\n",
      "<class 'str'>\n",
      "Naresh \n",
      "Naresh\n",
      "Hello\n",
      "friends \n"
     ]
    }
   ],
   "source": [
    "# Text Type : str\n",
    "\n",
    "a= 10 \n",
    "print(type(a))\n",
    "b = str(a)\n",
    "print(b)\n",
    "print(type(b))\n",
    "\n",
    "\n",
    "c = \"Naresh \"\n",
    "print(c)\n",
    "\n",
    "d ='Naresh'\n",
    "print(d)\n",
    "\n",
    "e = \"\"\"Hello\n",
    "friends \"\"\"\n",
    "print(e)"
   ]
  },
  {
   "cell_type": "code",
   "execution_count": 6,
   "id": "c823fbe1",
   "metadata": {},
   "outputs": [
    {
     "name": "stdout",
     "output_type": "stream",
     "text": [
      "10\n",
      "<class 'int'>\n",
      "Type of the variable is a int\n"
     ]
    }
   ],
   "source": [
    "#Numerical Type\n",
    "\n",
    "a= 10\n",
    "print(a)\n",
    "print(type(a))\n",
    "\n",
    "b = 100\n",
    "if b == \"apple\":\n",
    "    print(\"Type of the variable not a int\")\n",
    "else:\n",
    "    print(\"Type of the variable is a int\")"
   ]
  },
  {
   "cell_type": "code",
   "execution_count": 8,
   "id": "11e1426c",
   "metadata": {},
   "outputs": [
    {
     "name": "stdout",
     "output_type": "stream",
     "text": [
      "10.0\n",
      "<class 'float'>\n",
      "Type of variable is a float\n"
     ]
    }
   ],
   "source": [
    "#Numerical Type : float\n",
    "\n",
    "a=10.00\n",
    "print(a)\n",
    "print(type(a))\n",
    "\n",
    "b = 12.63\n",
    "if b == 12:\n",
    "    print(\"Type of variable is a int\")\n",
    "else :\n",
    "    print(\"Type of variable is a float\")"
   ]
  },
  {
   "cell_type": "code",
   "execution_count": 13,
   "id": "fdecebd2",
   "metadata": {},
   "outputs": [
    {
     "name": "stdout",
     "output_type": "stream",
     "text": [
      "10j\n",
      "<class 'complex'>\n",
      "Type of variable is complex\n"
     ]
    }
   ],
   "source": [
    "# Numerical Type : Complex\n",
    "\n",
    "a= 10j\n",
    "print(a)\n",
    "print(type(a))\n",
    "\n",
    "if a!= 10 and a==10j:\n",
    "    print(\"Type of variable is complex\")"
   ]
  },
  {
   "cell_type": "code",
   "execution_count": 21,
   "id": "f08708eb",
   "metadata": {},
   "outputs": [
    {
     "name": "stdout",
     "output_type": "stream",
     "text": [
      "<class 'bool'>\n",
      "<class 'bool'>\n",
      "Both are the boolean type\n"
     ]
    }
   ],
   "source": [
    "# Boolean type : bool\n",
    "a = True\n",
    "b = False\n",
    "\n",
    "print(type(a))\n",
    "print(type(b))\n",
    "\n",
    "False/True #0.0\n",
    "\n",
    "bool(1)\n",
    "if a == bool(1) and b == bool(0):\n",
    "    print(\"Both are the boolean type\")\n"
   ]
  },
  {
   "cell_type": "markdown",
   "id": "997e765d",
   "metadata": {},
   "source": [
    "4. What is an expression made up of? What do all expressions do?"
   ]
  },
  {
   "cell_type": "markdown",
   "id": "c2e1b5a0",
   "metadata": {},
   "source": [
    "**An Expression is a combination of operators and operands that is interpreted to produce some other values**\n",
    "Expression is evaluated as per the precedence of its operators"
   ]
  },
  {
   "cell_type": "markdown",
   "id": "a929cc19",
   "metadata": {},
   "source": [
    "5. This assignment statements, like spam = 10. What is the difference between an\n",
    "expression and a statement?"
   ]
  },
  {
   "cell_type": "markdown",
   "id": "39b472af",
   "metadata": {},
   "source": [
    "1. spam = 10\n",
    "**spam = 10 is belongs to Statement \n",
    "statement :\" A Statement is a action or a command that does something \n",
    "Expression : A Expression is a combination of variables and operators, literals which yield something\n",
    "example:spam 10+10**"
   ]
  },
  {
   "cell_type": "raw",
   "id": "e9c89bbf",
   "metadata": {},
   "source": [
    "6. After running the following code, what does the variable bacon contain?\n",
    "bacon = 22\n",
    "bacon + 1"
   ]
  },
  {
   "cell_type": "code",
   "execution_count": 22,
   "id": "71ba4c64",
   "metadata": {},
   "outputs": [
    {
     "data": {
      "text/plain": [
       "23"
      ]
     },
     "execution_count": 22,
     "metadata": {},
     "output_type": "execute_result"
    }
   ],
   "source": [
    "bacon=22\n",
    "bacon+1"
   ]
  },
  {
   "cell_type": "raw",
   "id": "54ae44e5",
   "metadata": {},
   "source": [
    "7. What should the values of the following two terms be?\n",
    "'spam' + 'spamspam';\n",
    "'spam' * 3"
   ]
  },
  {
   "cell_type": "code",
   "execution_count": 23,
   "id": "eb7dbd71",
   "metadata": {},
   "outputs": [
    {
     "data": {
      "text/plain": [
       "'spamspamspam'"
      ]
     },
     "execution_count": 23,
     "metadata": {},
     "output_type": "execute_result"
    }
   ],
   "source": [
    "a='spam'+'spamspam'\n",
    "a"
   ]
  },
  {
   "cell_type": "code",
   "execution_count": 24,
   "id": "562562b6",
   "metadata": {},
   "outputs": [
    {
     "data": {
      "text/plain": [
       "'spamspamspam'"
      ]
     },
     "execution_count": 24,
     "metadata": {},
     "output_type": "execute_result"
    }
   ],
   "source": [
    "a='spam'*3\n",
    "a"
   ]
  },
  {
   "cell_type": "raw",
   "id": "97bec13f",
   "metadata": {},
   "source": [
    "8. Why is eggs a valid variable name while 100 is invalid?"
   ]
  },
  {
   "cell_type": "markdown",
   "id": "0c952409",
   "metadata": {},
   "source": [
    "Variables names cannot begin with a number "
   ]
  },
  {
   "cell_type": "markdown",
   "id": "674d7624",
   "metadata": {},
   "source": [
    "9. What three functions can be used to get the integer, floating-point number, or string\n",
    "version of a value?"
   ]
  },
  {
   "cell_type": "markdown",
   "id": "b831ec3a",
   "metadata": {},
   "source": [
    "The **int()**,**float()**,**str()** will evaluate to the integer, floating-point number ,or string versions of the value\n",
    "passed to them."
   ]
  },
  {
   "cell_type": "markdown",
   "id": "6a4a9c55",
   "metadata": {},
   "source": [
    "10. Why does this expression cause an error? How can you fix it?\n",
    "&#39;I have eaten &#39; + 99 + &#39; burritos.&#39;"
   ]
  },
  {
   "cell_type": "markdown",
   "id": "3307680c",
   "metadata": {},
   "source": [
    "**The expression cause an error because 99 is an integer , and only string can be concatened to other string with the + operator \n",
    "the correct way is**\n",
    "\n",
    "I have eaten'+str(99)+'burritos'"
   ]
  },
  {
   "cell_type": "code",
   "execution_count": null,
   "id": "ce64fd7a",
   "metadata": {},
   "outputs": [],
   "source": []
  }
 ],
 "metadata": {
  "kernelspec": {
   "display_name": "Python 3",
   "language": "python",
   "name": "python3"
  },
  "language_info": {
   "codemirror_mode": {
    "name": "ipython",
    "version": 3
   },
   "file_extension": ".py",
   "mimetype": "text/x-python",
   "name": "python",
   "nbconvert_exporter": "python",
   "pygments_lexer": "ipython3",
   "version": "3.8.8"
  }
 },
 "nbformat": 4,
 "nbformat_minor": 5
}
