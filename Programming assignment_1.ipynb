{
 "cells": [
  {
   "cell_type": "markdown",
   "id": "cc23d5dc",
   "metadata": {},
   "source": [
    "# 1. Write a Python program to print &quot;Hello Python&quot;?"
   ]
  },
  {
   "cell_type": "code",
   "execution_count": 2,
   "id": "7cd29dfe",
   "metadata": {},
   "outputs": [
    {
     "name": "stdout",
     "output_type": "stream",
     "text": [
      "\"Hello Python\"\n"
     ]
    }
   ],
   "source": [
    "a='\"Hello Python\"'\n",
    "print(a)"
   ]
  },
  {
   "cell_type": "markdown",
   "id": "116af87b",
   "metadata": {},
   "source": [
    "# 2. Write a Python program to do arithmetical operations addition and division.?"
   ]
  },
  {
   "cell_type": "code",
   "execution_count": 3,
   "id": "665b701d",
   "metadata": {},
   "outputs": [
    {
     "data": {
      "text/plain": [
       "10"
      ]
     },
     "execution_count": 3,
     "metadata": {},
     "output_type": "execute_result"
    }
   ],
   "source": [
    "def add1(a,b):\n",
    "    c=a+b\n",
    "    return c\n",
    "add1(5,5)"
   ]
  },
  {
   "cell_type": "code",
   "execution_count": 6,
   "id": "8f3843b2",
   "metadata": {},
   "outputs": [
    {
     "data": {
      "text/plain": [
       "0.3333333333333333"
      ]
     },
     "execution_count": 6,
     "metadata": {},
     "output_type": "execute_result"
    }
   ],
   "source": [
    "def div1(c,d):\n",
    "    e=c/d\n",
    "    return e\n",
    "div1(2,6)"
   ]
  },
  {
   "cell_type": "markdown",
   "id": "867bcf88",
   "metadata": {},
   "source": [
    "# 3. Write a Python program to find the area of a triangle?"
   ]
  },
  {
   "cell_type": "code",
   "execution_count": 19,
   "id": "80d14d4f",
   "metadata": {},
   "outputs": [
    {
     "name": "stdout",
     "output_type": "stream",
     "text": [
      "Enter the Base value10\n",
      "Enter the Height Value60\n",
      "Area of the Triangle:300.0\n"
     ]
    }
   ],
   "source": [
    "a=float(input('Enter the Base value'))\n",
    "b=float(input('Enter the Height Value'))\n",
    "def Area_Triangle(a,b):\n",
    "    area=(a*b)/2\n",
    "    return area\n",
    "Area_Triangle(a,b)\n",
    "print(f\"Area of the Triangle:{Area_Triangle(a,b)}\")"
   ]
  },
  {
   "cell_type": "markdown",
   "id": "cfaa9272",
   "metadata": {},
   "source": [
    "# 4. Write a Python program to swap two variables?"
   ]
  },
  {
   "cell_type": "code",
   "execution_count": 21,
   "id": "3d5b3b16",
   "metadata": {},
   "outputs": [
    {
     "name": "stdout",
     "output_type": "stream",
     "text": [
      "['Ineuron', 26, 'Naresh', 'cracked']\n"
     ]
    }
   ],
   "source": [
    "def swap1(list,pos1,pos2):\n",
    "    list[pos1],list[pos2] = list[pos2],list[pos1]\n",
    "    return list\n",
    "list=['Naresh',26,'Ineuron','cracked']\n",
    "pos1,pos2=2,0 #Indexing swaping position\n",
    "print(swap1(list,pos1,pos2))"
   ]
  },
  {
   "cell_type": "markdown",
   "id": "9ddf8882",
   "metadata": {},
   "source": [
    "# 5. Write a Python program to generate a random number?"
   ]
  },
  {
   "cell_type": "markdown",
   "id": "21260b4c",
   "metadata": {},
   "source": [
    "python define a set of functions that are used to generate or manipulate random numbers through the **random module**.Functions\n",
    "in the random module rely on a pseudo-random number generator function **random()**, which generates a random float number between 0.0 to 1.0 "
   ]
  },
  {
   "cell_type": "code",
   "execution_count": 27,
   "id": "edbe7f2c",
   "metadata": {},
   "outputs": [
    {
     "name": "stdout",
     "output_type": "stream",
     "text": [
      "Orginal list :\n",
      "['A', 'B', 'C', 'D']\n",
      "\n",
      " After the First shuffle : \n",
      "['A', 'B', 'C', 'D']\n",
      "\n",
      " After the Second shuffle : \n",
      "['C', 'A', 'B', 'D']\n"
     ]
    }
   ],
   "source": [
    "#import a random module\n",
    "import random\n",
    "\n",
    "#declare a list\n",
    "list=['A','B','C','D']\n",
    "print(\"Orginal list :\")\n",
    "print(list)\n",
    "\n",
    "#first shuffle\n",
    "random.shuffle(list)\n",
    "print(\"\\n After the First shuffle : \")\n",
    "print(list)\n",
    "\n",
    "#second Shuffle\n",
    "random.shuffle(list)\n",
    "print(\"\\n After the Second shuffle : \")\n",
    "print(list)"
   ]
  },
  {
   "cell_type": "code",
   "execution_count": 30,
   "id": "91328c07",
   "metadata": {},
   "outputs": [
    {
     "name": "stdout",
     "output_type": "stream",
     "text": [
      "2\n"
     ]
    }
   ],
   "source": [
    "import random\n",
    "\n",
    "num1 = random.randint(0,9)\n",
    "print(num1)"
   ]
  },
  {
   "cell_type": "code",
   "execution_count": null,
   "id": "437be8bb",
   "metadata": {},
   "outputs": [],
   "source": []
  },
  {
   "cell_type": "code",
   "execution_count": null,
   "id": "794d9934",
   "metadata": {},
   "outputs": [],
   "source": []
  }
 ],
 "metadata": {
  "kernelspec": {
   "display_name": "Python 3",
   "language": "python",
   "name": "python3"
  },
  "language_info": {
   "codemirror_mode": {
    "name": "ipython",
    "version": 3
   },
   "file_extension": ".py",
   "mimetype": "text/x-python",
   "name": "python",
   "nbconvert_exporter": "python",
   "pygments_lexer": "ipython3",
   "version": "3.8.8"
  }
 },
 "nbformat": 4,
 "nbformat_minor": 5
}
