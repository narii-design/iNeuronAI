{
 "cells": [
  {
   "cell_type": "markdown",
   "id": "d471fbc8",
   "metadata": {},
   "source": [
    "# 1. Write a Python program to convert kilometers to miles?"
   ]
  },
  {
   "cell_type": "code",
   "execution_count": 1,
   "id": "95201169",
   "metadata": {},
   "outputs": [
    {
     "name": "stdout",
     "output_type": "stream",
     "text": [
      "Enter the Kilometers5\n",
      "3.106855 Miles\n"
     ]
    }
   ],
   "source": [
    "# one  kilometer is equal to 0.621371 mile\n",
    "\n",
    "a = int(input(\"Enter the Kilometers\"))\n",
    "\n",
    "def kilo(a):\n",
    "    b = a * 0.621371\n",
    "    return b\n",
    "print(kilo(a),\"Miles\")"
   ]
  },
  {
   "cell_type": "markdown",
   "id": "7b057c8f",
   "metadata": {},
   "source": [
    "# 2. Write a Python program to convert Celsius to Fahrenheit?"
   ]
  },
  {
   "cell_type": "code",
   "execution_count": 7,
   "id": "92cbd700",
   "metadata": {},
   "outputs": [
    {
     "name": "stdout",
     "output_type": "stream",
     "text": [
      "Enter the Celsius Value : 0\n",
      "32.0  Fahrenheit\n"
     ]
    }
   ],
   "source": [
    "# formulae to convert celsius to fahrenheit  (celsius *9/5)+32= fahrenheit\n",
    "\n",
    "a = int(input(\"Enter the Celsius Value : \"))\n",
    "b = 9/5\n",
    "c = 32\n",
    "\n",
    "def celsius(a):\n",
    "    d=(a*b)+c\n",
    "    return d\n",
    "\n",
    "print(celsius(a),\" Fahrenheit\")"
   ]
  },
  {
   "cell_type": "markdown",
   "id": "b2f28ec0",
   "metadata": {},
   "source": [
    "# 3. Write a Python program to display calendar?"
   ]
  },
  {
   "cell_type": "markdown",
   "id": "58451626",
   "metadata": {},
   "source": [
    "python has a in-built function, calendar to work with date related tasks. we need to import **calendar** module."
   ]
  },
  {
   "cell_type": "code",
   "execution_count": 17,
   "id": "77e5b687",
   "metadata": {},
   "outputs": [
    {
     "name": "stdout",
     "output_type": "stream",
     "text": [
      "Enter the month :6\n",
      "Enter the year :2022\n",
      "     June 2022\n",
      "Mo Tu We Th Fr Sa Su\n",
      "       1  2  3  4  5\n",
      " 6  7  8  9 10 11 12\n",
      "13 14 15 16 17 18 19\n",
      "20 21 22 23 24 25 26\n",
      "27 28 29 30\n",
      "\n"
     ]
    }
   ],
   "source": [
    "# importing calendar module \n",
    "import calendar\n",
    "\n",
    "mm = int(input(\"Enter the month :\"))\n",
    "yy  = int(input(\"Enter the year :\"))\n",
    "\n",
    "print(calendar.month(yy,mm))"
   ]
  },
  {
   "cell_type": "markdown",
   "id": "2214aac6",
   "metadata": {},
   "source": [
    "# 4. Write a Python program to solve quadratic equation?"
   ]
  },
  {
   "cell_type": "markdown",
   "id": "3ab65b14",
   "metadata": {},
   "source": [
    "**Quadratic Equation :**\n",
    "                        Quadratic Equation is made from **Latin** terms **\"quadrates\"** which means **Square**. It is a special type of equation having the form of \n",
    "                            ax**2 +bx+c=0"
   ]
  },
  {
   "cell_type": "code",
   "execution_count": 19,
   "id": "f8008e98",
   "metadata": {},
   "outputs": [
    {
     "name": "stdout",
     "output_type": "stream",
     "text": [
      "Enter a :8\n",
      "Enter b :16\n",
      "Enter c :8\n",
      "The solutions are (-1+0j) and (-1+0j)\n"
     ]
    }
   ],
   "source": [
    "#import complex math module\n",
    "import cmath\n",
    "\n",
    "a = float(input(\"Enter a :\"))\n",
    "b = float(input(\"Enter b :\"))\n",
    "c = float(input(\"Enter c :\"))\n",
    "\n",
    "\n",
    "#calculate the discriminate\n",
    "\n",
    "d =  (b**2)-(4*a*c)\n",
    "\n",
    "#find the two solutions\n",
    "\n",
    "sol1 = (-b-cmath.sqrt(d))/(2*a)\n",
    "\n",
    "sol2 = (-b+cmath.sqrt(d))/(2*a)\n",
    "\n",
    "print(\"The solutions are {0} and {1}\".format(sol1,sol2))"
   ]
  },
  {
   "cell_type": "markdown",
   "id": "f9a5d149",
   "metadata": {},
   "source": [
    "# 5. Write a Python program to swap two variables without temp variable?"
   ]
  },
  {
   "cell_type": "code",
   "execution_count": 20,
   "id": "e526dabd",
   "metadata": {},
   "outputs": [
    {
     "name": "stdout",
     "output_type": "stream",
     "text": [
      "After Swaping : x =  5  y =  15\n"
     ]
    }
   ],
   "source": [
    "x = 15\n",
    "y = 5\n",
    "\n",
    "# code to swap without using temp vatiable \n",
    "#code to swap 'x' to 'y'\n",
    "\n",
    "#x now become 20\n",
    "\n",
    "x = x + y\n",
    "\n",
    "# Y now become 15\n",
    "\n",
    "y = x - y\n",
    "\n",
    "# x now become 5\n",
    "\n",
    "x = x - y\n",
    "\n",
    "print(\"After Swaping : x = \",x,\" y = \", y)\n"
   ]
  },
  {
   "cell_type": "code",
   "execution_count": null,
   "id": "33cb3b52",
   "metadata": {},
   "outputs": [],
   "source": []
  }
 ],
 "metadata": {
  "kernelspec": {
   "display_name": "Python 3",
   "language": "python",
   "name": "python3"
  },
  "language_info": {
   "codemirror_mode": {
    "name": "ipython",
    "version": 3
   },
   "file_extension": ".py",
   "mimetype": "text/x-python",
   "name": "python",
   "nbconvert_exporter": "python",
   "pygments_lexer": "ipython3",
   "version": "3.8.8"
  }
 },
 "nbformat": 4,
 "nbformat_minor": 5
}
